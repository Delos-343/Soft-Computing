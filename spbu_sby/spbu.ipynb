{
 "cells": [
  {
   "cell_type": "markdown",
   "metadata": {},
   "source": [
    "# Install libraries"
   ]
  },
  {
   "cell_type": "code",
   "execution_count": 5,
   "metadata": {},
   "outputs": [
    {
     "name": "stdout",
     "output_type": "stream",
     "text": [
      "Collecting package metadata (current_repodata.json): ...working... failed\n"
     ]
    },
    {
     "name": "stderr",
     "output_type": "stream",
     "text": [
      "\n",
      "# >>>>>>>>>>>>>>>>>>>>>> ERROR REPORT <<<<<<<<<<<<<<<<<<<<<<\n",
      "\n",
      "    Traceback (most recent call last):\n",
      "      File \"C:\\ProgramData\\miniconda3\\lib\\site-packages\\urllib3\\response.py\", line 737, in _error_catcher\n",
      "        yield\n",
      "      File \"C:\\ProgramData\\miniconda3\\lib\\site-packages\\urllib3\\response.py\", line 1184, in read_chunked\n",
      "        self._update_chunk_length()\n",
      "      File \"C:\\ProgramData\\miniconda3\\lib\\site-packages\\urllib3\\response.py\", line 1108, in _update_chunk_length\n",
      "        line = self._fp.fp.readline()  # type: ignore[union-attr]\n",
      "      File \"C:\\ProgramData\\miniconda3\\lib\\socket.py\", line 589, in readinto\n",
      "        return self._sock.recv_into(b)\n",
      "      File \"C:\\ProgramData\\miniconda3\\lib\\ssl.py\", line 1071, in recv_into\n",
      "        return self.read(nbytes, buffer)\n",
      "      File \"C:\\ProgramData\\miniconda3\\lib\\ssl.py\", line 929, in read\n",
      "        return self._sslobj.read(len, buffer)\n",
      "    ConnectionResetError: [WinError 10054] An existing connection was forcibly closed by the remote host\n",
      "    \n",
      "    The above exception was the direct cause of the following exception:\n",
      "    \n",
      "    Traceback (most recent call last):\n",
      "      File \"C:\\ProgramData\\miniconda3\\lib\\site-packages\\requests\\models.py\", line 820, in generate\n",
      "        yield from self.raw.stream(chunk_size, decode_content=True)\n",
      "      File \"C:\\ProgramData\\miniconda3\\lib\\site-packages\\urllib3\\response.py\", line 1040, in stream\n",
      "        yield from self.read_chunked(amt, decode_content=decode_content)\n",
      "      File \"C:\\ProgramData\\miniconda3\\lib\\site-packages\\urllib3\\response.py\", line 1213, in read_chunked\n",
      "        self._original_response.close()\n",
      "      File \"C:\\ProgramData\\miniconda3\\lib\\contextlib.py\", line 130, in __exit__\n",
      "        self.gen.throw(type, value, traceback)\n",
      "      File \"C:\\ProgramData\\miniconda3\\lib\\site-packages\\urllib3\\response.py\", line 764, in _error_catcher\n",
      "        raise ProtocolError(f\"Connection broken: {e!r}\", e) from e\n",
      "    urllib3.exceptions.ProtocolError: (\"Connection broken: ConnectionResetError(10054, 'An existing connection was forcibly closed by the remote host', None, 10054, None)\", ConnectionResetError(10054, 'An existing connection was forcibly closed by the remote host', None, 10054, None))\n",
      "    \n",
      "    During handling of the above exception, another exception occurred:\n",
      "    \n",
      "    Traceback (most recent call last):\n",
      "      File \"C:\\ProgramData\\miniconda3\\lib\\site-packages\\conda\\exceptions.py\", line 1124, in __call__\n",
      "        return func(*args, **kwargs)\n",
      "      File \"C:\\ProgramData\\miniconda3\\lib\\site-packages\\conda\\cli\\main.py\", line 69, in main_subshell\n",
      "        exit_code = do_call(args, p)\n",
      "      File \"C:\\ProgramData\\miniconda3\\lib\\site-packages\\conda\\cli\\conda_argparse.py\", line 91, in do_call\n",
      "        return getattr(module, func_name)(args, parser)\n",
      "      File \"C:\\ProgramData\\miniconda3\\lib\\site-packages\\conda\\notices\\core.py\", line 109, in wrapper\n",
      "        return func(*args, **kwargs)\n",
      "      File \"C:\\ProgramData\\miniconda3\\lib\\site-packages\\conda\\cli\\main_install.py\", line 20, in execute\n",
      "        install(args, parser, 'install')\n",
      "      File \"C:\\ProgramData\\miniconda3\\lib\\site-packages\\conda\\cli\\install.py\", line 268, in install\n",
      "        should_retry_solve=(_should_retry_unfrozen or repodata_fn != repodata_fns[-1]),\n",
      "      File \"C:\\ProgramData\\miniconda3\\lib\\site-packages\\conda\\core\\solve.py\", line 135, in solve_for_transaction\n",
      "        should_retry_solve)\n",
      "      File \"C:\\ProgramData\\miniconda3\\lib\\site-packages\\conda\\core\\solve.py\", line 176, in solve_for_diff\n",
      "        force_remove, should_retry_solve)\n",
      "      File \"C:\\ProgramData\\miniconda3\\lib\\site-packages\\conda\\core\\solve.py\", line 280, in solve_final_state\n",
      "        ssc = self._collect_all_metadata(ssc)\n",
      "      File \"C:\\ProgramData\\miniconda3\\lib\\site-packages\\conda\\common\\io.py\", line 84, in decorated\n",
      "        return f(*args, **kwds)\n",
      "      File \"C:\\ProgramData\\miniconda3\\lib\\site-packages\\conda\\core\\solve.py\", line 447, in _collect_all_metadata\n",
      "        index, r = self._prepare(prepared_specs)\n",
      "      File \"C:\\ProgramData\\miniconda3\\lib\\site-packages\\conda\\core\\solve.py\", line 1061, in _prepare\n",
      "        self.subdirs, prepared_specs, self._repodata_fn)\n",
      "      File \"C:\\ProgramData\\miniconda3\\lib\\site-packages\\conda\\core\\index.py\", line 268, in get_reduced_index\n",
      "        repodata_fn=repodata_fn)\n",
      "      File \"C:\\ProgramData\\miniconda3\\lib\\site-packages\\conda\\core\\subdir_data.py\", line 124, in query_all\n",
      "        result = tuple(chain.from_iterable(executor.map(subdir_query, channel_urls)))\n",
      "      File \"C:\\ProgramData\\miniconda3\\lib\\concurrent\\futures\\_base.py\", line 598, in result_iterator\n",
      "        yield fs.pop().result()\n",
      "      File \"C:\\ProgramData\\miniconda3\\lib\\concurrent\\futures\\_base.py\", line 435, in result\n",
      "        return self.__get_result()\n",
      "      File \"C:\\ProgramData\\miniconda3\\lib\\concurrent\\futures\\_base.py\", line 384, in __get_result\n",
      "        raise self._exception\n",
      "      File \"C:\\ProgramData\\miniconda3\\lib\\concurrent\\futures\\thread.py\", line 57, in run\n",
      "        result = self.fn(*self.args, **self.kwargs)\n",
      "      File \"C:\\ProgramData\\miniconda3\\lib\\site-packages\\conda\\core\\subdir_data.py\", line 114, in <lambda>\n",
      "        SubdirData(Channel(url), repodata_fn=repodata_fn).query(package_ref_or_match_spec)\n",
      "      File \"C:\\ProgramData\\miniconda3\\lib\\site-packages\\conda\\core\\subdir_data.py\", line 129, in query\n",
      "        self.load()\n",
      "      File \"C:\\ProgramData\\miniconda3\\lib\\site-packages\\conda\\core\\subdir_data.py\", line 215, in load\n",
      "        _internal_state = self._load()\n",
      "      File \"C:\\ProgramData\\miniconda3\\lib\\site-packages\\conda\\core\\subdir_data.py\", line 323, in _load\n",
      "        raw_repodata_str = self._repo.repodata(mod_etag_headers)\n",
      "      File \"C:\\ProgramData\\miniconda3\\lib\\site-packages\\conda\\gateways\\repodata\\__init__.py\", line 97, in repodata\n",
      "        url, headers=headers, proxies=session.proxies, timeout=timeout\n",
      "      File \"C:\\ProgramData\\miniconda3\\lib\\site-packages\\requests\\sessions.py\", line 602, in get\n",
      "        return self.request(\"GET\", url, **kwargs)\n",
      "      File \"C:\\ProgramData\\miniconda3\\lib\\site-packages\\requests\\sessions.py\", line 589, in request\n",
      "        resp = self.send(prep, **send_kwargs)\n",
      "      File \"C:\\ProgramData\\miniconda3\\lib\\site-packages\\requests\\sessions.py\", line 746, in send\n",
      "        r.content\n",
      "      File \"C:\\ProgramData\\miniconda3\\lib\\site-packages\\requests\\models.py\", line 902, in content\n",
      "        self._content = b\"\".join(self.iter_content(CONTENT_CHUNK_SIZE)) or b\"\"\n",
      "      File \"C:\\ProgramData\\miniconda3\\lib\\site-packages\\requests\\models.py\", line 822, in generate\n",
      "        raise ChunkedEncodingError(e)\n",
      "    requests.exceptions.ChunkedEncodingError: (\"Connection broken: ConnectionResetError(10054, 'An existing connection was forcibly closed by the remote host', None, 10054, None)\", ConnectionResetError(10054, 'An existing connection was forcibly closed by the remote host', None, 10054, None))\n",
      "\n",
      "`$ C:\\ProgramData\\miniconda3\\Scripts\\conda-script.py install --yes --prefix c:\\ProgramData\\miniconda3 folium pandas`\n",
      "\n",
      "  environment variables:\n",
      "                 CIO_TEST=<not set>\n",
      "        CONDA_DEFAULT_ENV=base\n",
      "                CONDA_EXE=C:\\ProgramData\\miniconda3\\condabin\\..\\Scripts\\conda.exe\n",
      "               CONDA_EXES=\"C:\\ProgramData\\miniconda3\\condabin\\..\\Scripts\\conda.exe\"\n",
      "             CONDA_PREFIX=C:\\ProgramData\\miniconda3\n",
      "    CONDA_PROMPT_MODIFIER=(base)\n",
      "         CONDA_PYTHON_EXE=C:\\ProgramData\\miniconda3\\python.exe\n",
      "               CONDA_ROOT=C:\\ProgramData\\miniconda3\n",
      "              CONDA_SHLVL=1\n",
      "                CUDA_PATH=C:\\Program Files\\NVIDIA GPU Computing Toolkit\\CUDA\\v12.5\n",
      "           CURL_CA_BUNDLE=<not set>\n",
      "                 HOMEPATH=\\Users\\moham\n",
      "               LD_PRELOAD=<not set>\n",
      "                     PATH=C:\\ProgramData\\miniconda3\\lib\\site-\n",
      "                          packages\\pywin32_system32;c:\\ProgramData\\miniconda3\\lib\\site-packages\\\n",
      "                          pywin32_system32;c:\\ProgramData\\miniconda3;C:\\ProgramData\\miniconda3;C\n",
      "                          :\\ProgramData\\miniconda3\\Library\\mingw-w64\\bin;C:\\ProgramData\\minicond\n",
      "                          a3\\Library\\usr\\bin;C:\\ProgramData\\miniconda3\\Library\\bin;C:\\ProgramDat\n",
      "                          a\\miniconda3\\Scripts;C:\\ProgramData\\miniconda3\\bin;C:\\ProgramData\\mini\n",
      "                          conda3\\condabin;C:\\Program Files\\NVIDIA GPU Computing\n",
      "                          Toolkit\\CUDA\\v12.5\\bin;C:\\Program Files\\NVIDIA GPU Computing Toolkit\\C\n",
      "                          UDA\\v12.5\\libnvvp;C:\\Windows\\system32;C:\\Windows;C:\\Windows\\System32\\W\n",
      "                          bem;C:\\Windows\\System32\\WindowsPowerShell\\v1.0;C:\\Windows\\System32\\Ope\n",
      "                          nSSH;C:\\Program Files (x86)\\NVIDIA Corporation\\PhysX\\Common;C:\\Program\n",
      "                          Files\\NVIDIA Corporation\\NVIDIA NvDLISR;C:\\Program\n",
      "                          Files\\nodejs;C:\\Program\n",
      "                          Files\\Git\\cmd;C:\\Users\\moham\\AppData\\Local\\Pub\\Cache\\bin;C:\\Program\n",
      "                          Files\\NVIDIA Corporation\\Nsight Compute 2024.2.0;C:\\Users\\moham\\AppDat\n",
      "                          a\\Roaming\\Python\\Python312\\Scripts;C:\\WINDOWS\\system32;C:\\WINDOWS;C:\\W\n",
      "                          INDOWS\\System32\\Wbem;C:\\WINDOWS\\System32\\WindowsPowerShell\\v1.0;C:\\WIN\n",
      "                          DOWS\\System32\\OpenSSH;C:\\Program Files\\flutter\\bin;C:\\Users\\moham\\AppD\n",
      "                          ata\\Local\\Microsoft\\WindowsApps;C:\\Users\\moham\\AppData\\Local\\Programs\\\n",
      "                          Microsoft VS Code\\bin;C:\\Users\\moham\\AppData\\Roaming\\npm;C:\\Users\\moha\n",
      "                          m\\AppData\\Local\\Android\\Sdk;C:\\Program Files\\NVIDIA GPU Computing\n",
      "                          Toolkit\\CUDA\\v12.5\\bin;.\n",
      "             PSMODULEPATH=C:\\Program Files\\WindowsPowerShell\\Modules;C:\\WINDOWS\\system32\\Windows\n",
      "                          PowerShell\\v1.0\\Modules\n",
      "         PYTHONIOENCODING=utf-8\n",
      "         PYTHONUNBUFFERED=1\n",
      "    PYTHON_FROZEN_MODULES=on\n",
      "       REQUESTS_CA_BUNDLE=<not set>\n",
      "            SSL_CERT_FILE=C:\\ProgramData\\miniconda3\\Library\\ssl\\cacert.pem\n",
      "   VSCODE_CODE_CACHE_PATH=C:\\Users\\moham\\AppData\\Roaming\\Code\\CachedData\\384ff7382de624fb94dbaf6\n",
      "                          da11977bba1ecd427\n",
      "\n",
      "     active environment : base\n",
      "    active env location : C:\\ProgramData\\miniconda3\n",
      "            shell level : 1\n",
      "       user config file : C:\\Users\\moham\\.condarc\n",
      " populated config files : C:\\Users\\moham\\.condarc\n",
      "          conda version : 23.1.0\n",
      "    conda-build version : not installed\n",
      "         python version : 3.7.12.final.0\n",
      "       virtual packages : __archspec=1=x86_64\n",
      "                          __cuda=12.7=0\n",
      "                          __win=0=0\n",
      "       base environment : C:\\ProgramData\\miniconda3  (read only)\n",
      "      conda av data dir : C:\\ProgramData\\miniconda3\\etc\\conda\n",
      "  conda av metadata url : None\n",
      "           channel URLs : https://conda.anaconda.org/conda-forge/win-64\n",
      "                          https://conda.anaconda.org/conda-forge/noarch\n",
      "                          https://repo.anaconda.com/pkgs/main/win-64\n",
      "                          https://repo.anaconda.com/pkgs/main/noarch\n",
      "                          https://repo.anaconda.com/pkgs/r/win-64\n",
      "                          https://repo.anaconda.com/pkgs/r/noarch\n",
      "                          https://repo.anaconda.com/pkgs/msys2/win-64\n",
      "                          https://repo.anaconda.com/pkgs/msys2/noarch\n",
      "          package cache : C:\\ProgramData\\miniconda3\\pkgs\n",
      "                          C:\\Users\\moham\\.conda\\pkgs\n",
      "                          C:\\Users\\moham\\AppData\\Local\\conda\\conda\\pkgs\n",
      "       envs directories : C:\\Users\\moham\\.conda\\envs\n",
      "                          C:\\ProgramData\\miniconda3\\envs\n",
      "                          C:\\Users\\moham\\AppData\\Local\\conda\\conda\\envs\n",
      "               platform : win-64\n",
      "             user-agent : conda/23.1.0 requests/2.32.2 CPython/3.7.12 Windows/10 Windows/10.0.22621\n",
      "          administrator : False\n",
      "             netrc file : None\n",
      "           offline mode : False\n",
      "\n",
      "\n",
      "An unexpected error has occurred. Conda has prepared the above report.\n",
      "\n",
      "Upload did not complete.\n"
     ]
    },
    {
     "name": "stdout",
     "output_type": "stream",
     "text": [
      "^C\n",
      "\n",
      "Note: you may need to restart the kernel to use updated packages.\n"
     ]
    }
   ],
   "source": [
    "pip install folium pandas"
   ]
  },
  {
   "cell_type": "markdown",
   "metadata": {},
   "source": [
    "# Import libraries"
   ]
  },
  {
   "cell_type": "code",
   "execution_count": null,
   "metadata": {},
   "outputs": [],
   "source": [
    "import folium\n",
    "import pandas as pd"
   ]
  },
  {
   "cell_type": "markdown",
   "metadata": {},
   "source": [
    "# Update SPBU data with new lat. and long. coordinates"
   ]
  },
  {
   "cell_type": "code",
   "execution_count": null,
   "metadata": {},
   "outputs": [],
   "source": [
    "spbu_data = {\n",
    "    \"No.\": [0, 1, 2, 3, 4, 5, 6, 7, 8, 9, 10, 11, 12, 13, 14, 15],\n",
    "    \"SPBU Shell\": [\n",
    "        \"Disperindag Jatim\", \"SPBU Shell Kenjeran\", \"SPBU Shell Kalijudan\",\n",
    "        \"SPBU Shell Kertajaya\", \"SPBU Shell MERR\", \"SPBU Shell Tenggilis\",\n",
    "        \"SPBU Shell Margorejo\", \"SPBU Shell Prapen\", \"SPBU Shell Jemursari\",\n",
    "        \"SPBU Shell Mastrip\", \"SPBU Shell Mayjend. Jonosewojo\",\n",
    "        \"SPBU Shell Citraland Surabaya\", \"SPBU Shell Diponegoro\",\n",
    "        \"SPBU Shell Banyu Urip\", \"SPBU Shell Dupak\", \"SPBU Shell Pemuda Central\"\n",
    "    ],\n",
    "    \"Lat\": [\n",
    "        -7.2462432, -7.2706385, -7.2619126, -7.2914352,\n",
    "        -7.3031839, -7.3120378, -7.3120378, -7.3120378,\n",
    "        -7.3123783, -7.3135701, -7.2915856, -7.2829925,\n",
    "        -7.2837743, -7.2678106, -7.2455989, -7.2561568\n",
    "    ],\n",
    "    \"Long\": [\n",
    "        112.5657171, 112.7509975, 112.7742391, 112.7441023,\n",
    "        112.7377508, 112.7303694, 112.7303694, 112.7303694,\n",
    "        112.7061651, 112.6910589, 112.59951, 112.6505545,\n",
    "        112.6573062, 112.6362348, 112.6451612, 112.7158856\n",
    "    ]\n",
    "}"
   ]
  },
  {
   "cell_type": "markdown",
   "metadata": {},
   "source": [
    "# Create DataFrame from SPBU data"
   ]
  },
  {
   "cell_type": "code",
   "execution_count": null,
   "metadata": {},
   "outputs": [],
   "source": [
    "spbu_df = pd.DataFrame(spbu_data)"
   ]
  },
  {
   "cell_type": "markdown",
   "metadata": {},
   "source": [
    "# Create a map for the location (Surabaya , SBY)"
   ]
  },
  {
   "cell_type": "code",
   "execution_count": null,
   "metadata": {},
   "outputs": [],
   "source": [
    "map_center = [-7.27, 112.73] # Approximate center of SBY\n",
    "\n",
    "m = folium.Map(location=map_center, zoom_start=12)"
   ]
  },
  {
   "cell_type": "markdown",
   "metadata": {},
   "source": [
    "# Add nodes to map"
   ]
  },
  {
   "cell_type": "markdown",
   "metadata": {},
   "source": [
    "for idx, row in spbu_df.iterrows():\n",
    "    folium.Marker(\n",
    "        location=[row['Lat'], row['Long']],\n",
    "        popup=row['SPBU Shell'],\n",
    "        icon=folium.Icon(color='blue')\n",
    "    ).add_to(m)"
   ]
  },
  {
   "cell_type": "markdown",
   "metadata": {},
   "source": [
    "# Define cluster routes"
   ]
  },
  {
   "cell_type": "code",
   "execution_count": null,
   "metadata": {},
   "outputs": [],
   "source": [
    "routes = {\n",
    "    'Cluster 1': [0, 2, 1, 3],\n",
    "    'Cluster 2': [0, 8, 5, 6, 7, 4],\n",
    "    'Cluster 3': [0, 9, 10, 11],\n",
    "    'Cluster 4': [0, 15, 14, 13, 12]\n",
    "}"
   ]
  },
  {
   "cell_type": "markdown",
   "metadata": {},
   "source": [
    "# Add routes to map"
   ]
  },
  {
   "cell_type": "code",
   "execution_count": null,
   "metadata": {},
   "outputs": [],
   "source": [
    "for cluster_name, route in routes.items():\n",
    "    route_coords = [(spbu_df.iloc[i]['Lat'], spbu_df.iloc[i]['Long']) for i in route]\n",
    "    folium.PolyLine(locations=route_coords + [route_coords[0]], color='red', weight=5).add_to(m) # Close loop"
   ]
  }
 ],
 "metadata": {
  "kernelspec": {
   "display_name": "Python 3",
   "language": "python",
   "name": "python3"
  },
  "language_info": {
   "codemirror_mode": {
    "name": "ipython",
    "version": 3
   },
   "file_extension": ".py",
   "mimetype": "text/x-python",
   "name": "python",
   "nbconvert_exporter": "python",
   "pygments_lexer": "ipython3",
   "version": "3.7.12"
  }
 },
 "nbformat": 4,
 "nbformat_minor": 2
}
