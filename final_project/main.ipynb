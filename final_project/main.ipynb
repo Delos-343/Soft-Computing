{
 "cells": [
  {
   "cell_type": "markdown",
   "metadata": {},
   "source": [
    "# 3.1 Simulated Annealing"
   ]
  },
  {
   "cell_type": "markdown",
   "metadata": {},
   "source": [
    "Install required packages / libraries (or update)."
   ]
  },
  {
   "cell_type": "code",
   "execution_count": 4,
   "metadata": {},
   "outputs": [
    {
     "name": "stdout",
     "output_type": "stream",
     "text": [
      "Looking in indexes: https://pypi.org/simple, https://pypi.ngc.nvidia.com\n",
      "Collecting numpy==1.19.5\n",
      "  Downloading numpy-1.19.5-cp37-cp37m-win32.whl (11.0 MB)\n",
      "Collecting matplotlib==3.3.4\n",
      "  Downloading matplotlib-3.3.4-cp37-cp37m-win32.whl (8.3 MB)\n",
      "Collecting pandas==1.1.5\n",
      "  Downloading pandas-1.1.5-cp37-cp37m-win32.whl (7.8 MB)\n",
      "Collecting geopandas==0.9.0\n",
      "  Downloading geopandas-0.9.0-py2.py3-none-any.whl (994 kB)\n",
      "Collecting networkx==2.5\n",
      "  Downloading networkx-2.5-py3-none-any.whl (1.6 MB)\n",
      "Collecting scikit-learn==0.24.2\n",
      "  Downloading scikit_learn-0.24.2-cp37-cp37m-win32.whl (6.1 MB)\n",
      "Requirement already satisfied: python-dateutil>=2.1 in c:\\users\\moham\\appdata\\roaming\\python\\python37\\site-packages (from matplotlib==3.3.4->-r requirements.txt (line 4)) (2.9.0.post0)\n",
      "Collecting pyparsing!=2.0.4,!=2.1.2,!=2.1.6,>=2.0.3\n",
      "  Downloading pyparsing-3.1.4-py3-none-any.whl (104 kB)\n",
      "Collecting pillow>=6.2.0\n",
      "  Downloading Pillow-9.5.0-cp37-cp37m-win32.whl (2.2 MB)\n",
      "Collecting kiwisolver>=1.0.1\n",
      "  Downloading kiwisolver-1.4.5-cp37-cp37m-win32.whl (47 kB)\n",
      "Collecting cycler>=0.10\n",
      "  Downloading cycler-0.11.0-py3-none-any.whl (6.4 kB)\n",
      "Collecting pytz>=2017.2\n",
      "  Downloading pytz-2024.2-py2.py3-none-any.whl (508 kB)\n",
      "Collecting fiona>=1.8\n",
      "  Downloading fiona-1.9.6.tar.gz (411 kB)\n",
      "  Installing build dependencies: started\n",
      "  Installing build dependencies: finished with status 'error'\n"
     ]
    },
    {
     "name": "stderr",
     "output_type": "stream",
     "text": [
      "  ERROR: Command errored out with exit status 2:\n",
      "   command: 'c:\\Users\\moham\\AppData\\Local\\Programs\\Python\\Python37-32\\python.exe' 'c:\\Users\\moham\\AppData\\Local\\Programs\\Python\\Python37-32\\lib\\site-packages\\pip' install --ignore-installed --no-user --prefix 'C:\\Users\\moham\\AppData\\Local\\Temp\\pip-build-env-w0v0c664\\overlay' --no-warn-script-location --no-binary :none: --only-binary :none: -i https://pypi.org/simple --extra-index-url https://pypi.ngc.nvidia.com --trusted-host pypi.ngc.nvidia.com -- 'cython~=3.0.2' oldest-supported-numpy 'setuptools>=67.8' wheel\n",
      "       cwd: None\n",
      "  Complete output (28 lines):\n",
      "  Looking in indexes: https://pypi.org/simple, https://pypi.ngc.nvidia.com, https://pypi.ngc.nvidia.com\n",
      "  Collecting cython~=3.0.2\n",
      "    Downloading Cython-3.0.11-cp37-cp37m-win32.whl (2.5 MB)\n",
      "  Collecting oldest-supported-numpy\n",
      "    Downloading oldest_supported_numpy-2023.12.21-py3-none-any.whl (4.9 kB)\n",
      "  Collecting setuptools>=67.8\n",
      "    Downloading setuptools-68.0.0-py3-none-any.whl (804 kB)\n",
      "  Collecting wheel\n",
      "    Downloading wheel-0.42.0-py3-none-any.whl (65 kB)\n",
      "  Collecting numpy==1.14.5; python_version == \"3.7\" and platform_machine not in \"arm64|aarch64|loongarch64\" and platform_system != \"AIX\" and platform_python_implementation != \"PyPy\"\n",
      "    Downloading numpy-1.14.5-cp37-none-win32.whl (9.8 MB)\n",
      "  Installing collected packages: cython, numpy, oldest-supported-numpy, setuptools, wheel\n",
      "  ERROR: Exception:\n",
      "  Traceback (most recent call last):\n",
      "    File \"c:\\Users\\moham\\AppData\\Local\\Programs\\Python\\Python37-32\\lib\\site-packages\\pip\\_internal\\cli\\base_command.py\", line 188, in _main\n",
      "    File \"c:\\Users\\moham\\AppData\\Local\\Programs\\Python\\Python37-32\\lib\\site-packages\\pip\\_internal\\cli\\req_command.py\", line 185, in wrapper\n",
      "    File \"c:\\Users\\moham\\AppData\\Local\\Programs\\Python\\Python37-32\\lib\\site-packages\\pip\\_internal\\commands\\install.py\", line 407, in run\n",
      "    File \"c:\\Users\\moham\\AppData\\Local\\Programs\\Python\\Python37-32\\lib\\site-packages\\pip\\_internal\\req\\__init__.py\", line 71, in install_given_reqs\n",
      "    File \"c:\\Users\\moham\\AppData\\Local\\Programs\\Python\\Python37-32\\lib\\site-packages\\pip\\_internal\\req\\req_install.py\", line 811, in install\n",
      "    File \"c:\\Users\\moham\\AppData\\Local\\Programs\\Python\\Python37-32\\lib\\site-packages\\pip\\_internal\\operations\\install\\wheel.py\", line 630, in install_wheel\n",
      "    File \"c:\\Users\\moham\\AppData\\Local\\Programs\\Python\\Python37-32\\lib\\site-packages\\pip\\_internal\\operations\\install\\wheel.py\", line 550, in install_unpacked_wheel\n",
      "    File \"c:\\Users\\moham\\AppData\\Local\\Programs\\Python\\Python37-32\\lib\\site-packages\\pip\\_vendor\\distlib\\scripts.py\", line 415, in make_multiple\n",
      "    File \"c:\\Users\\moham\\AppData\\Local\\Programs\\Python\\Python37-32\\lib\\site-packages\\pip\\_internal\\operations\\install\\wheel.py\", line 285, in make\n",
      "    File \"c:\\Users\\moham\\AppData\\Local\\Programs\\Python\\Python37-32\\lib\\site-packages\\pip\\_vendor\\distlib\\scripts.py\", line 404, in make\n",
      "    File \"c:\\Users\\moham\\AppData\\Local\\Programs\\Python\\Python37-32\\lib\\site-packages\\pip\\_vendor\\distlib\\scripts.py\", line 304, in _make_script\n",
      "    File \"c:\\Users\\moham\\AppData\\Local\\Programs\\Python\\Python37-32\\lib\\site-packages\\pip\\_vendor\\distlib\\scripts.py\", line 239, in _write_script\n",
      "    File \"c:\\Users\\moham\\AppData\\Local\\Programs\\Python\\Python37-32\\lib\\site-packages\\pip\\_vendor\\distlib\\scripts.py\", line 383, in _get_launcher\n",
      "  ValueError: Unable to find resource t32.exe in package pip._vendor.distlib\n",
      "  ----------------------------------------\n",
      "ERROR: Command errored out with exit status 2: 'c:\\Users\\moham\\AppData\\Local\\Programs\\Python\\Python37-32\\python.exe' 'c:\\Users\\moham\\AppData\\Local\\Programs\\Python\\Python37-32\\lib\\site-packages\\pip' install --ignore-installed --no-user --prefix 'C:\\Users\\moham\\AppData\\Local\\Temp\\pip-build-env-w0v0c664\\overlay' --no-warn-script-location --no-binary :none: --only-binary :none: -i https://pypi.org/simple --extra-index-url https://pypi.ngc.nvidia.com --trusted-host pypi.ngc.nvidia.com -- 'cython~=3.0.2' oldest-supported-numpy 'setuptools>=67.8' wheel Check the logs for full command output.\n"
     ]
    },
    {
     "name": "stdout",
     "output_type": "stream",
     "text": [
      "Looking in indexes: https://pypi.org/simple, https://pypi.ngc.nvidia.com\n",
      "Collecting pip\n",
      "  Downloading pip-24.0-py3-none-any.whl (2.1 MB)\n",
      "Installing collected packages: pip\n",
      "  Attempting uninstall: pip\n",
      "    Found existing installation: pip 20.1.1\n",
      "    Uninstalling pip-20.1.1:\n",
      "      Successfully uninstalled pip-20.1.1\n",
      "Successfully installed pip-24.0\n",
      "Note: you may need to restart the kernel to use updated packages.\n"
     ]
    },
    {
     "name": "stderr",
     "output_type": "stream",
     "text": [
      "  WARNING: The scripts pip.exe, pip3.10.exe, pip3.7.exe and pip3.exe are installed in 'c:\\Users\\moham\\AppData\\Local\\Programs\\Python\\Python37-32\\Scripts' which is not on PATH.\n",
      "  Consider adding this directory to PATH or, if you prefer to suppress this warning, use --no-warn-script-location.\n"
     ]
    }
   ],
   "source": [
    "pip install --upgrade pip"
   ]
  },
  {
   "cell_type": "code",
   "execution_count": 6,
   "metadata": {},
   "outputs": [
    {
     "name": "stdout",
     "output_type": "stream",
     "text": [
      "Looking in indexes: https://pypi.org/simple, https://pypi.ngc.nvidia.comNote: you may need to restart the kernel to use updated packages.\n",
      "\n",
      "Collecting numpy==1.19.5 (from -r requirements.txt (line 3))\n",
      "  Downloading numpy-1.19.5-cp37-cp37m-win32.whl.metadata (2.0 kB)\n",
      "Collecting matplotlib==3.3.4 (from -r requirements.txt (line 4))\n",
      "  Downloading matplotlib-3.3.4-cp37-cp37m-win32.whl.metadata (5.7 kB)\n",
      "Collecting pandas==1.1.5 (from -r requirements.txt (line 5))\n",
      "  Downloading pandas-1.1.5-cp37-cp37m-win32.whl.metadata (4.7 kB)\n",
      "Collecting geopandas==0.9.0 (from -r requirements.txt (line 6))\n",
      "  Downloading geopandas-0.9.0-py2.py3-none-any.whl.metadata (908 bytes)\n",
      "Collecting networkx==2.5 (from -r requirements.txt (line 7))\n",
      "  Downloading networkx-2.5-py3-none-any.whl.metadata (4.9 kB)\n",
      "Collecting scikit-learn==0.24.2 (from -r requirements.txt (line 8))\n",
      "  Downloading scikit_learn-0.24.2-cp37-cp37m-win32.whl.metadata (9.8 kB)\n",
      "Collecting cycler>=0.10 (from matplotlib==3.3.4->-r requirements.txt (line 4))\n",
      "  Downloading cycler-0.11.0-py3-none-any.whl.metadata (785 bytes)\n",
      "Collecting kiwisolver>=1.0.1 (from matplotlib==3.3.4->-r requirements.txt (line 4))\n",
      "  Downloading kiwisolver-1.4.5-cp37-cp37m-win32.whl.metadata (6.5 kB)\n",
      "Collecting pillow>=6.2.0 (from matplotlib==3.3.4->-r requirements.txt (line 4))\n",
      "  Downloading Pillow-9.5.0-cp37-cp37m-win32.whl.metadata (9.7 kB)\n",
      "Collecting pyparsing!=2.0.4,!=2.1.2,!=2.1.6,>=2.0.3 (from matplotlib==3.3.4->-r requirements.txt (line 4))\n",
      "  Downloading pyparsing-3.1.4-py3-none-any.whl.metadata (5.1 kB)\n",
      "Requirement already satisfied: python-dateutil>=2.1 in c:\\users\\moham\\appdata\\roaming\\python\\python37\\site-packages (from matplotlib==3.3.4->-r requirements.txt (line 4)) (2.9.0.post0)\n",
      "Collecting pytz>=2017.2 (from pandas==1.1.5->-r requirements.txt (line 5))\n",
      "  Downloading pytz-2024.2-py2.py3-none-any.whl.metadata (22 kB)\n",
      "Collecting shapely>=1.6 (from geopandas==0.9.0->-r requirements.txt (line 6))\n",
      "  Downloading shapely-2.0.6-cp37-cp37m-win32.whl.metadata (7.2 kB)\n",
      "Collecting fiona>=1.8 (from geopandas==0.9.0->-r requirements.txt (line 6))\n",
      "  Downloading fiona-1.9.6.tar.gz (411 kB)\n",
      "     -------------------------------------- 411.0/411.0 kB 2.1 MB/s eta 0:00:00\n",
      "  Installing build dependencies: started\n",
      "  Installing build dependencies: finished with status 'done'\n",
      "  Getting requirements to build wheel: started\n",
      "  Getting requirements to build wheel: finished with status 'error'\n"
     ]
    },
    {
     "name": "stderr",
     "output_type": "stream",
     "text": [
      "  error: subprocess-exited-with-error\n",
      "  \n",
      "  × Getting requirements to build wheel did not run successfully.\n",
      "  │ exit code: 1\n",
      "  ╰─> [1 lines of output]\n",
      "      CRITICAL:root:A GDAL API version must be specified. Provide a path to gdal-config using a GDAL_CONFIG environment variable or use a GDAL_VERSION environment variable.\n",
      "      [end of output]\n",
      "  \n",
      "  note: This error originates from a subprocess, and is likely not a problem with pip.\n",
      "error: subprocess-exited-with-error\n",
      "\n",
      "× Getting requirements to build wheel did not run successfully.\n",
      "│ exit code: 1\n",
      "╰─> See above for output.\n",
      "\n",
      "note: This error originates from a subprocess, and is likely not a problem with pip.\n"
     ]
    }
   ],
   "source": [
    "pip install -r requirements.txt"
   ]
  },
  {
   "cell_type": "markdown",
   "metadata": {},
   "source": [
    "## 3.1.1 Initialization\n",
    "\n",
    "Begin the program by loading the dataset."
   ]
  },
  {
   "cell_type": "code",
   "execution_count": null,
   "metadata": {},
   "outputs": [],
   "source": [
    "import pandas as pd\n",
    "\n",
    "# Load the CSV files\n",
    "gas_stations_df = pd.read_csv('dataset/gas_stations.csv')\n",
    "distances_df = pd.read_csv('dataset/x_y_distances.csv')\n",
    "\n",
    "# Preview the data\n",
    "gas_stations_df.head(), distances_df.head()"
   ]
  },
  {
   "cell_type": "markdown",
   "metadata": {},
   "source": [
    "### 3.1.2 Import Necessary Libraries\n",
    "\n",
    "This probabilistic technique is used for approximating the global optimum of a given function. It will find the shortest route across the gas stations, beginning from DISPERINDAG Surabaya."
   ]
  },
  {
   "cell_type": "code",
   "execution_count": null,
   "metadata": {},
   "outputs": [],
   "source": [
    "import numpy as np\n",
    "import random\n",
    "import math\n",
    "import matplotlib.pyplot as plt"
   ]
  },
  {
   "cell_type": "markdown",
   "metadata": {},
   "source": [
    "### 3.1.3 Execution\n",
    "\n",
    "This section defines the distances, starting point, base temperature, and cooling schedule."
   ]
  },
  {
   "cell_type": "code",
   "execution_count": null,
   "metadata": {},
   "outputs": [],
   "source": [
    "def simulated_annealing(distances, start_idx, temperature=1000, cooling_rate=0.003, min_temp=1):\n",
    "    num_nodes = len(distances)\n",
    "    \n",
    "    # Generate initial solution (random path)\n",
    "    current_solution = list(range(num_nodes))\n",
    "    random.shuffle(current_solution)\n",
    "    current_solution.insert(0, start_idx)  # Start at DISPERINDAG\n",
    "    \n",
    "    current_distance = calculate_total_distance(current_solution, distances)\n",
    "    best_solution = current_solution.copy()\n",
    "    best_distance = current_distance\n",
    "    \n",
    "    # Annealing process\n",
    "    while temperature > min_temp:\n",
    "        # Generate new solution by swapping two nodes\n",
    "        new_solution = current_solution.copy()\n",
    "        i, j = random.sample(range(1, num_nodes), 2)  # avoid swapping the start node\n",
    "        new_solution[i], new_solution[j] = new_solution[j], new_solution[i]\n",
    "        \n",
    "        new_distance = calculate_total_distance(new_solution, distances)\n",
    "        \n",
    "        # Decide whether to accept the new solution\n",
    "        if accept_solution(current_distance, new_distance, temperature):\n",
    "            current_solution = new_solution\n",
    "            current_distance = new_distance\n",
    "        \n",
    "        # Update the best solution if found a new best\n",
    "        if current_distance < best_distance:\n",
    "            best_solution = current_solution.copy()\n",
    "            best_distance = current_distance\n",
    "        \n",
    "        # Cool the system\n",
    "        temperature *= 1 - cooling_rate\n",
    "    \n",
    "    return best_solution, best_distance\n"
   ]
  },
  {
   "cell_type": "markdown",
   "metadata": {},
   "source": [
    "### 3.1.4 Travel Distance\n",
    "\n",
    "This section will calculate the total distance traveled according to the number and complexity of nodes."
   ]
  },
  {
   "cell_type": "code",
   "execution_count": null,
   "metadata": {},
   "outputs": [],
   "source": [
    "def calculate_total_distance(solution, distances):\n",
    "    total_distance = 0\n",
    "    for i in range(len(solution) - 1):\n",
    "        total_distance += distances.loc[solution[i], solution[i + 1]]\n",
    "    return total_distance"
   ]
  },
  {
   "cell_type": "markdown",
   "metadata": {},
   "source": [
    "### 3.1.5 Choose Best Route\n",
    "\n",
    "This section will pick the best / optimal solution according to the thermal expansion and cooling process in the region."
   ]
  },
  {
   "cell_type": "code",
   "execution_count": null,
   "metadata": {},
   "outputs": [],
   "source": [
    "def accept_solution(current_distance, new_distance, temperature):\n",
    "    if new_distance < current_distance:\n",
    "        return True\n",
    "    else:\n",
    "        # Accept the new solution with a certain probability\n",
    "        return random.random() < math.exp((current_distance - new_distance) / temperature)"
   ]
  },
  {
   "cell_type": "markdown",
   "metadata": {},
   "source": [
    "# 3.2 Lovebird Algorithm"
   ]
  },
  {
   "cell_type": "markdown",
   "metadata": {},
   "source": [
    "## 3.2.1 Define algorithm\n",
    "\n",
    "This section provides the necessary features for the algorithm through the number of nodes and agents iterating through them."
   ]
  },
  {
   "cell_type": "code",
   "execution_count": null,
   "metadata": {},
   "outputs": [],
   "source": [
    "def lovebird_algorithm(distances, start_idx, num_agents=10, max_iterations=100):\n",
    "    num_nodes = len(distances)\n",
    "    \n",
    "    # Initialize agents randomly\n",
    "    agents = [list(range(num_nodes)) for _ in range(num_agents)]\n",
    "    for agent in agents:\n",
    "        random.shuffle(agent)\n",
    "        agent.insert(0, start_idx)  # Start at DISPERINDAG\n",
    "\n",
    "    best_agent = None\n",
    "    best_distance = float('inf')\n",
    "\n",
    "    for iteration in range(max_iterations):\n",
    "        for agent in agents:\n",
    "            # Calculate the total distance for this agent's solution\n",
    "            current_distance = calculate_total_distance(agent, distances)\n",
    "            \n",
    "            # Update the best solution if this agent is better\n",
    "            if current_distance < best_distance:\n",
    "                best_distance = current_distance\n",
    "                best_agent = agent\n",
    "        \n",
    "            # Move agents toward the best solution\n",
    "            for i in range(1, num_nodes):\n",
    "                if random.random() < 0.1:\n",
    "                    agent[i] = best_agent[i]\n",
    "\n",
    "    return best_agent, best_distance\n"
   ]
  }
 ],
 "metadata": {
  "kernelspec": {
   "display_name": "Python 3",
   "language": "python",
   "name": "python3"
  },
  "language_info": {
   "codemirror_mode": {
    "name": "ipython",
    "version": 3
   },
   "file_extension": ".py",
   "mimetype": "text/x-python",
   "name": "python",
   "nbconvert_exporter": "python",
   "pygments_lexer": "ipython3",
   "version": "3.7.9"
  }
 },
 "nbformat": 4,
 "nbformat_minor": 2
}
