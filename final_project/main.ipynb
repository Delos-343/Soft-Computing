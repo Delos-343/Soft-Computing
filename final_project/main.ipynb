{
 "cells": [
  {
   "cell_type": "markdown",
   "metadata": {},
   "source": [
    "# 3.1 Simulated Annealing"
   ]
  },
  {
   "cell_type": "markdown",
   "metadata": {},
   "source": [
    "## 3.1.1 Initialization"
   ]
  },
  {
   "cell_type": "code",
   "execution_count": null,
   "metadata": {
    "vscode": {
     "languageId": "plaintext"
    }
   },
   "outputs": [],
   "source": [
    "import pandas as pd\n",
    "\n",
    "# Load the CSV files\n",
    "gas_stations_df = pd.read_csv('dataset/gas_stations.csv')\n",
    "distances_df = pd.read_csv('dataset/x_y_distances.csv')\n",
    "\n",
    "# Preview the data\n",
    "gas_stations_df.head(), distances_df.head()"
   ]
  },
  {
   "cell_type": "markdown",
   "metadata": {},
   "source": [
    "## 3.1.2 Import Necessary Libraries\n",
    "\n",
    "### This probabilistic technique is used for approximating the global optimum of a given function. It will find the shortest route across the gas stations, beginning from DISPERINDAG Surabaya."
   ]
  },
  {
   "cell_type": "code",
   "execution_count": null,
   "metadata": {
    "vscode": {
     "languageId": "plaintext"
    }
   },
   "outputs": [],
   "source": [
    "import numpy as np\n",
    "import random\n",
    "import math\n",
    "import matplotlib.pyplot as plt"
   ]
  },
  {
   "cell_type": "markdown",
   "metadata": {},
   "source": [
    "## 3.1.3 Execution\n",
    "\n",
    "### This section defines the distances, starting point, base temperature, and cooling schedule."
   ]
  },
  {
   "cell_type": "code",
   "execution_count": null,
   "metadata": {
    "vscode": {
     "languageId": "plaintext"
    }
   },
   "outputs": [],
   "source": [
    "def simulated_annealing(distances, start_idx, temperature=1000, cooling_rate=0.003, min_temp=1):\n",
    "    num_nodes = len(distances)\n",
    "    \n",
    "    # Generate initial solution (random path)\n",
    "    current_solution = list(range(num_nodes))\n",
    "    random.shuffle(current_solution)\n",
    "    current_solution.insert(0, start_idx)  # Start at DISPERINDAG\n",
    "    \n",
    "    current_distance = calculate_total_distance(current_solution, distances)\n",
    "    best_solution = current_solution.copy()\n",
    "    best_distance = current_distance\n",
    "    \n",
    "    # Annealing process\n",
    "    while temperature > min_temp:\n",
    "        # Generate new solution by swapping two nodes\n",
    "        new_solution = current_solution.copy()\n",
    "        i, j = random.sample(range(1, num_nodes), 2)  # avoid swapping the start node\n",
    "        new_solution[i], new_solution[j] = new_solution[j], new_solution[i]\n",
    "        \n",
    "        new_distance = calculate_total_distance(new_solution, distances)\n",
    "        \n",
    "        # Decide whether to accept the new solution\n",
    "        if accept_solution(current_distance, new_distance, temperature):\n",
    "            current_solution = new_solution\n",
    "            current_distance = new_distance\n",
    "        \n",
    "        # Update the best solution if found a new best\n",
    "        if current_distance < best_distance:\n",
    "            best_solution = current_solution.copy()\n",
    "            best_distance = current_distance\n",
    "        \n",
    "        # Cool the system\n",
    "        temperature *= 1 - cooling_rate\n",
    "    \n",
    "    return best_solution, best_distance\n"
   ]
  },
  {
   "cell_type": "markdown",
   "metadata": {},
   "source": [
    "## 3.1.4 Travel Distance\n",
    "\n",
    "### This section will calculate the total distance traveled according to the number and complexity of nodes."
   ]
  },
  {
   "cell_type": "code",
   "execution_count": null,
   "metadata": {
    "vscode": {
     "languageId": "plaintext"
    }
   },
   "outputs": [],
   "source": [
    "def calculate_total_distance(solution, distances):\n",
    "    total_distance = 0\n",
    "    for i in range(len(solution) - 1):\n",
    "        total_distance += distances.loc[solution[i], solution[i + 1]]\n",
    "    return total_distance"
   ]
  },
  {
   "cell_type": "markdown",
   "metadata": {},
   "source": [
    "# 3.1.5 Choose Best Route\n",
    "\n",
    "### This section will pick the best / optimal solution according to the thermal expansion and cooling process in the region."
   ]
  },
  {
   "cell_type": "code",
   "execution_count": null,
   "metadata": {
    "vscode": {
     "languageId": "plaintext"
    }
   },
   "outputs": [],
   "source": [
    "def accept_solution(current_distance, new_distance, temperature):\n",
    "    if new_distance < current_distance:\n",
    "        return True\n",
    "    else:\n",
    "        # Accept the new solution with a certain probability\n",
    "        return random.random() < math.exp((current_distance - new_distance) / temperature)"
   ]
  }
 ],
 "metadata": {
  "language_info": {
   "name": "python"
  }
 },
 "nbformat": 4,
 "nbformat_minor": 2
}
