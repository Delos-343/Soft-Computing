{
 "cells": [
  {
   "cell_type": "markdown",
   "metadata": {},
   "source": [
    "# 3.1 Simulated Annealing"
   ]
  },
  {
   "cell_type": "markdown",
   "metadata": {},
   "source": [
    "Install required packages / libraries (or update)."
   ]
  },
  {
   "cell_type": "code",
   "execution_count": null,
   "metadata": {},
   "outputs": [
    {
     "name": "stdout",
     "output_type": "stream",
     "text": [
      "Defaulting to user installation because normal site-packages is not writeable\n",
      "Looking in indexes: https://pypi.org/simple, https://pypi.ngc.nvidia.com\n",
      "Requirement already satisfied: pip in c:\\programdata\\miniconda3\\lib\\site-packages (22.3.1)\n",
      "Collecting pip\n",
      "  Downloading pip-24.0-py3-none-any.whl (2.1 MB)\n",
      "     ---------------------------------------- 2.1/2.1 MB 2.7 MB/s eta 0:00:00\n"
     ]
    },
    {
     "name": "stderr",
     "output_type": "stream",
     "text": [
      "ERROR: To modify pip, please run the following command:\n",
      "C:\\ProgramData\\miniconda3\\python.exe -m pip install --upgrade pip\n"
     ]
    },
    {
     "name": "stdout",
     "output_type": "stream",
     "text": [
      "Defaulting to user installation because normal site-packages is not writeable\n",
      "Looking in indexes: https://pypi.org/simple, https://pypi.ngc.nvidia.com\n",
      "Collecting pywinpty\n",
      "  Downloading pywinpty-2.0.10-cp37-none-win_amd64.whl (1.4 MB)\n",
      "     ---------------------------------------- 1.4/1.4 MB 1.1 MB/s eta 0:00:00\n",
      "Installing collected packages: pywinpty\n",
      "Successfully installed pywinpty-2.0.10\n"
     ]
    }
   ],
   "source": [
    "!pip install --upgrade pip"
   ]
  },
  {
   "cell_type": "code",
   "execution_count": 30,
   "metadata": {},
   "outputs": [
    {
     "name": "stdout",
     "output_type": "stream",
     "text": [
      "Defaulting to user installation because normal site-packages is not writeable\n",
      "Looking in indexes: https://pypi.org/simple, https://pypi.ngc.nvidia.com\n",
      "Collecting numpy==1.19.5\n",
      "  Downloading numpy-1.19.5-cp37-cp37m-win_amd64.whl (13.2 MB)\n",
      "     ---------------------------------------- 13.2/13.2 MB 2.1 MB/s eta 0:00:00\n",
      "Collecting matplotlib==3.3.4\n",
      "  Downloading matplotlib-3.3.4-cp37-cp37m-win_amd64.whl (8.5 MB)\n",
      "     ---------------------------------------- 8.5/8.5 MB 1.2 MB/s eta 0:00:00\n",
      "Collecting pandas==1.1.5\n",
      "  Downloading pandas-1.1.5-cp37-cp37m-win_amd64.whl (8.7 MB)\n",
      "     ---------------------------------------- 8.7/8.7 MB 1.2 MB/s eta 0:00:00\n",
      "Collecting geopandas==0.9.0\n",
      "  Downloading geopandas-0.9.0-py2.py3-none-any.whl (994 kB)\n",
      "     -------------------------------------- 994.8/994.8 kB 1.3 MB/s eta 0:00:00\n",
      "Collecting networkx==2.5\n",
      "  Downloading networkx-2.5-py3-none-any.whl (1.6 MB)\n",
      "     ---------------------------------------- 1.6/1.6 MB 1.4 MB/s eta 0:00:00\n",
      "Collecting scikit-learn==0.24.2\n",
      "  Downloading scikit_learn-0.24.2-cp37-cp37m-win_amd64.whl (6.8 MB)\n",
      "     ---------------------------------------- 6.8/6.8 MB 557.8 kB/s eta 0:00:00\n",
      "Collecting cycler>=0.10\n",
      "  Downloading cycler-0.11.0-py3-none-any.whl (6.4 kB)\n",
      "Collecting pyparsing!=2.0.4,!=2.1.2,!=2.1.6,>=2.0.3\n",
      "  Downloading pyparsing-3.1.4-py3-none-any.whl (104 kB)\n",
      "     ------------------------------------ 104.1/104.1 kB 665.7 kB/s eta 0:00:00\n",
      "Collecting kiwisolver>=1.0.1\n",
      "  Downloading kiwisolver-1.4.5-cp37-cp37m-win_amd64.whl (55 kB)\n",
      "     -------------------------------------- 55.8/55.8 kB 584.1 kB/s eta 0:00:00\n",
      "Collecting pillow>=6.2.0\n",
      "  Downloading Pillow-9.5.0-cp37-cp37m-win_amd64.whl (2.5 MB)\n",
      "     ---------------------------------------- 2.5/2.5 MB 796.6 kB/s eta 0:00:00\n",
      "Requirement already satisfied: python-dateutil>=2.1 in c:\\users\\moham\\appdata\\roaming\\python\\python37\\site-packages (from matplotlib==3.3.4->-r requirements.txt (line 4)) (2.9.0.post0)\n",
      "Collecting pytz>=2017.2\n",
      "  Downloading pytz-2024.2-py2.py3-none-any.whl (508 kB)\n",
      "     ------------------------------------ 508.0/508.0 kB 817.3 kB/s eta 0:00:00\n",
      "Requirement already satisfied: fiona>=1.8 in c:\\users\\moham\\appdata\\roaming\\python\\python37\\site-packages (from geopandas==0.9.0->-r requirements.txt (line 6)) (1.9.6)\n",
      "Collecting pyproj>=2.2.0\n",
      "  Downloading pyproj-3.2.1-cp37-cp37m-win_amd64.whl (6.2 MB)\n",
      "     ---------------------------------------- 6.2/6.2 MB 1.2 MB/s eta 0:00:00\n",
      "Collecting shapely>=1.6\n",
      "  Downloading shapely-2.0.6-cp37-cp37m-win_amd64.whl (1.5 MB)\n",
      "     ---------------------------------------- 1.5/1.5 MB 1.6 MB/s eta 0:00:00\n",
      "Requirement already satisfied: decorator>=4.3.0 in c:\\users\\moham\\appdata\\roaming\\python\\python37\\site-packages (from networkx==2.5->-r requirements.txt (line 7)) (5.1.1)\n",
      "Collecting joblib>=0.11\n",
      "  Downloading joblib-1.3.2-py3-none-any.whl (302 kB)\n",
      "     -------------------------------------- 302.2/302.2 kB 2.1 MB/s eta 0:00:00\n",
      "Collecting scipy>=0.19.1\n",
      "  Downloading scipy-1.7.3-cp37-cp37m-win_amd64.whl (34.1 MB)\n",
      "     -------------------------------------- 34.1/34.1 MB 913.7 kB/s eta 0:00:00\n",
      "Collecting threadpoolctl>=2.0.0\n",
      "  Downloading threadpoolctl-3.1.0-py3-none-any.whl (14 kB)\n",
      "Requirement already satisfied: click-plugins>=1.0 in c:\\users\\moham\\appdata\\roaming\\python\\python37\\site-packages (from fiona>=1.8->geopandas==0.9.0->-r requirements.txt (line 6)) (1.1.1)\n",
      "Requirement already satisfied: importlib-metadata in c:\\programdata\\miniconda3\\lib\\site-packages (from fiona>=1.8->geopandas==0.9.0->-r requirements.txt (line 6)) (1.5.0)\n",
      "Requirement already satisfied: click~=8.0 in c:\\users\\moham\\appdata\\roaming\\python\\python37\\site-packages (from fiona>=1.8->geopandas==0.9.0->-r requirements.txt (line 6)) (8.1.7)\n",
      "Requirement already satisfied: cligj>=0.5 in c:\\users\\moham\\appdata\\roaming\\python\\python37\\site-packages (from fiona>=1.8->geopandas==0.9.0->-r requirements.txt (line 6)) (0.7.2)\n",
      "Requirement already satisfied: attrs>=19.2.0 in c:\\users\\moham\\appdata\\roaming\\python\\python37\\site-packages (from fiona>=1.8->geopandas==0.9.0->-r requirements.txt (line 6)) (24.2.0)\n",
      "Requirement already satisfied: six in c:\\users\\moham\\appdata\\roaming\\python\\python37\\site-packages (from fiona>=1.8->geopandas==0.9.0->-r requirements.txt (line 6)) (1.17.0)\n",
      "Requirement already satisfied: certifi in c:\\programdata\\miniconda3\\lib\\site-packages (from fiona>=1.8->geopandas==0.9.0->-r requirements.txt (line 6)) (2022.12.7)\n",
      "Collecting typing-extensions\n",
      "  Downloading typing_extensions-4.7.1-py3-none-any.whl (33 kB)\n",
      "Requirement already satisfied: colorama in c:\\users\\moham\\appdata\\roaming\\python\\python37\\site-packages (from click~=8.0->fiona>=1.8->geopandas==0.9.0->-r requirements.txt (line 6)) (0.4.6)\n",
      "Requirement already satisfied: zipp>=0.5 in c:\\programdata\\miniconda3\\lib\\site-packages (from importlib-metadata->fiona>=1.8->geopandas==0.9.0->-r requirements.txt (line 6)) (3.11.0)\n",
      "Installing collected packages: pytz, typing-extensions, threadpoolctl, pyproj, pyparsing, pillow, numpy, networkx, joblib, cycler, shapely, scipy, pandas, kiwisolver, scikit-learn, matplotlib, geopandas\n",
      "Successfully installed cycler-0.11.0 geopandas-0.9.0 joblib-1.3.2 kiwisolver-1.4.5 matplotlib-3.3.4 networkx-2.5 numpy-1.19.5 pandas-1.1.5 pillow-9.5.0 pyparsing-3.1.4 pyproj-3.2.1 pytz-2024.2 scikit-learn-0.24.2 scipy-1.7.3 shapely-2.0.6 threadpoolctl-3.1.0 typing-extensions-4.7.1\n"
     ]
    }
   ],
   "source": [
    "!pip install -r requirements.txt"
   ]
  },
  {
   "cell_type": "markdown",
   "metadata": {},
   "source": [
    "## 3.1.1 Initialization\n",
    "\n",
    "Begin the program by loading the dataset."
   ]
  },
  {
   "cell_type": "code",
   "execution_count": 31,
   "metadata": {},
   "outputs": [
    {
     "ename": "OSError",
     "evalue": "[WinError 193] %1 is not a valid Win32 application",
     "output_type": "error",
     "traceback": [
      "\u001b[1;31m---------------------------------------------------------------------------\u001b[0m",
      "\u001b[1;31mOSError\u001b[0m                                   Traceback (most recent call last)",
      "\u001b[1;32m~\\AppData\\Local\\Temp\\ipykernel_13136\\598642334.py\u001b[0m in \u001b[0;36m<module>\u001b[1;34m\u001b[0m\n\u001b[1;32m----> 1\u001b[1;33m \u001b[1;32mimport\u001b[0m \u001b[0mpandas\u001b[0m \u001b[1;32mas\u001b[0m \u001b[0mpd\u001b[0m\u001b[1;33m\u001b[0m\u001b[1;33m\u001b[0m\u001b[0m\n\u001b[0m\u001b[0;32m      2\u001b[0m \u001b[1;33m\u001b[0m\u001b[0m\n\u001b[0;32m      3\u001b[0m \u001b[1;31m# Load the CSV files\u001b[0m\u001b[1;33m\u001b[0m\u001b[1;33m\u001b[0m\u001b[1;33m\u001b[0m\u001b[0m\n\u001b[0;32m      4\u001b[0m \u001b[0mgas_stations_df\u001b[0m \u001b[1;33m=\u001b[0m \u001b[0mpd\u001b[0m\u001b[1;33m.\u001b[0m\u001b[0mread_csv\u001b[0m\u001b[1;33m(\u001b[0m\u001b[1;34m'dataset/gas_stations.csv'\u001b[0m\u001b[1;33m)\u001b[0m\u001b[1;33m\u001b[0m\u001b[1;33m\u001b[0m\u001b[0m\n\u001b[0;32m      5\u001b[0m \u001b[0mdistances_df\u001b[0m \u001b[1;33m=\u001b[0m \u001b[0mpd\u001b[0m\u001b[1;33m.\u001b[0m\u001b[0mread_csv\u001b[0m\u001b[1;33m(\u001b[0m\u001b[1;34m'dataset/x_y_distances.csv'\u001b[0m\u001b[1;33m)\u001b[0m\u001b[1;33m\u001b[0m\u001b[1;33m\u001b[0m\u001b[0m\n",
      "\u001b[1;32m~\\AppData\\Roaming\\Python\\Python37\\site-packages\\pandas\\__init__.py\u001b[0m in \u001b[0;36m<module>\u001b[1;34m\u001b[0m\n\u001b[0;32m      9\u001b[0m \u001b[1;32mfor\u001b[0m \u001b[0mdependency\u001b[0m \u001b[1;32min\u001b[0m \u001b[0mhard_dependencies\u001b[0m\u001b[1;33m:\u001b[0m\u001b[1;33m\u001b[0m\u001b[1;33m\u001b[0m\u001b[0m\n\u001b[0;32m     10\u001b[0m     \u001b[1;32mtry\u001b[0m\u001b[1;33m:\u001b[0m\u001b[1;33m\u001b[0m\u001b[1;33m\u001b[0m\u001b[0m\n\u001b[1;32m---> 11\u001b[1;33m         \u001b[0m__import__\u001b[0m\u001b[1;33m(\u001b[0m\u001b[0mdependency\u001b[0m\u001b[1;33m)\u001b[0m\u001b[1;33m\u001b[0m\u001b[1;33m\u001b[0m\u001b[0m\n\u001b[0m\u001b[0;32m     12\u001b[0m     \u001b[1;32mexcept\u001b[0m \u001b[0mImportError\u001b[0m \u001b[1;32mas\u001b[0m \u001b[0me\u001b[0m\u001b[1;33m:\u001b[0m\u001b[1;33m\u001b[0m\u001b[1;33m\u001b[0m\u001b[0m\n\u001b[0;32m     13\u001b[0m         \u001b[0mmissing_dependencies\u001b[0m\u001b[1;33m.\u001b[0m\u001b[0mappend\u001b[0m\u001b[1;33m(\u001b[0m\u001b[1;34mf\"{dependency}: {e}\"\u001b[0m\u001b[1;33m)\u001b[0m\u001b[1;33m\u001b[0m\u001b[1;33m\u001b[0m\u001b[0m\n",
      "\u001b[1;32m~\\AppData\\Roaming\\Python\\Python37\\site-packages\\numpy\\__init__.py\u001b[0m in \u001b[0;36m<module>\u001b[1;34m\u001b[0m\n\u001b[0;32m    136\u001b[0m \u001b[1;33m\u001b[0m\u001b[0m\n\u001b[0;32m    137\u001b[0m     \u001b[1;31m# Allow distributors to run custom init code\u001b[0m\u001b[1;33m\u001b[0m\u001b[1;33m\u001b[0m\u001b[1;33m\u001b[0m\u001b[0m\n\u001b[1;32m--> 138\u001b[1;33m     \u001b[1;32mfrom\u001b[0m \u001b[1;33m.\u001b[0m \u001b[1;32mimport\u001b[0m \u001b[0m_distributor_init\u001b[0m\u001b[1;33m\u001b[0m\u001b[1;33m\u001b[0m\u001b[0m\n\u001b[0m\u001b[0;32m    139\u001b[0m \u001b[1;33m\u001b[0m\u001b[0m\n\u001b[0;32m    140\u001b[0m     \u001b[1;32mfrom\u001b[0m \u001b[1;33m.\u001b[0m \u001b[1;32mimport\u001b[0m \u001b[0mcore\u001b[0m\u001b[1;33m\u001b[0m\u001b[1;33m\u001b[0m\u001b[0m\n",
      "\u001b[1;32m~\\AppData\\Roaming\\Python\\Python37\\site-packages\\numpy\\_distributor_init.py\u001b[0m in \u001b[0;36m<module>\u001b[1;34m\u001b[0m\n\u001b[0;32m     24\u001b[0m                 \u001b[1;31m# NOTE: would it change behavior to load ALL\u001b[0m\u001b[1;33m\u001b[0m\u001b[1;33m\u001b[0m\u001b[1;33m\u001b[0m\u001b[0m\n\u001b[0;32m     25\u001b[0m                 \u001b[1;31m# DLLs at this path vs. the name restriction?\u001b[0m\u001b[1;33m\u001b[0m\u001b[1;33m\u001b[0m\u001b[1;33m\u001b[0m\u001b[0m\n\u001b[1;32m---> 26\u001b[1;33m                 \u001b[0mWinDLL\u001b[0m\u001b[1;33m(\u001b[0m\u001b[0mos\u001b[0m\u001b[1;33m.\u001b[0m\u001b[0mpath\u001b[0m\u001b[1;33m.\u001b[0m\u001b[0mabspath\u001b[0m\u001b[1;33m(\u001b[0m\u001b[0mfilename\u001b[0m\u001b[1;33m)\u001b[0m\u001b[1;33m)\u001b[0m\u001b[1;33m\u001b[0m\u001b[1;33m\u001b[0m\u001b[0m\n\u001b[0m\u001b[0;32m     27\u001b[0m                 \u001b[0mDLL_filenames\u001b[0m\u001b[1;33m.\u001b[0m\u001b[0mappend\u001b[0m\u001b[1;33m(\u001b[0m\u001b[0mfilename\u001b[0m\u001b[1;33m)\u001b[0m\u001b[1;33m\u001b[0m\u001b[1;33m\u001b[0m\u001b[0m\n\u001b[0;32m     28\u001b[0m         \u001b[1;32mif\u001b[0m \u001b[0mlen\u001b[0m\u001b[1;33m(\u001b[0m\u001b[0mDLL_filenames\u001b[0m\u001b[1;33m)\u001b[0m \u001b[1;33m>\u001b[0m \u001b[1;36m1\u001b[0m\u001b[1;33m:\u001b[0m\u001b[1;33m\u001b[0m\u001b[1;33m\u001b[0m\u001b[0m\n",
      "\u001b[1;32mc:\\Users\\moham\\AppData\\Local\\Programs\\Python\\Python37-32\\lib\\ctypes\\__init__.py\u001b[0m in \u001b[0;36m__init__\u001b[1;34m(self, name, mode, handle, use_errno, use_last_error)\u001b[0m\n\u001b[0;32m    362\u001b[0m \u001b[1;33m\u001b[0m\u001b[0m\n\u001b[0;32m    363\u001b[0m         \u001b[1;32mif\u001b[0m \u001b[0mhandle\u001b[0m \u001b[1;32mis\u001b[0m \u001b[1;32mNone\u001b[0m\u001b[1;33m:\u001b[0m\u001b[1;33m\u001b[0m\u001b[1;33m\u001b[0m\u001b[0m\n\u001b[1;32m--> 364\u001b[1;33m             \u001b[0mself\u001b[0m\u001b[1;33m.\u001b[0m\u001b[0m_handle\u001b[0m \u001b[1;33m=\u001b[0m \u001b[0m_dlopen\u001b[0m\u001b[1;33m(\u001b[0m\u001b[0mself\u001b[0m\u001b[1;33m.\u001b[0m\u001b[0m_name\u001b[0m\u001b[1;33m,\u001b[0m \u001b[0mmode\u001b[0m\u001b[1;33m)\u001b[0m\u001b[1;33m\u001b[0m\u001b[1;33m\u001b[0m\u001b[0m\n\u001b[0m\u001b[0;32m    365\u001b[0m         \u001b[1;32melse\u001b[0m\u001b[1;33m:\u001b[0m\u001b[1;33m\u001b[0m\u001b[1;33m\u001b[0m\u001b[0m\n\u001b[0;32m    366\u001b[0m             \u001b[0mself\u001b[0m\u001b[1;33m.\u001b[0m\u001b[0m_handle\u001b[0m \u001b[1;33m=\u001b[0m \u001b[0mhandle\u001b[0m\u001b[1;33m\u001b[0m\u001b[1;33m\u001b[0m\u001b[0m\n",
      "\u001b[1;31mOSError\u001b[0m: [WinError 193] %1 is not a valid Win32 application"
     ]
    }
   ],
   "source": [
    "import pandas as pd\n",
    "\n",
    "# Load the CSV files\n",
    "gas_stations_df = pd.read_csv('dataset/gas_stations.csv')\n",
    "distances_df = pd.read_csv('dataset/x_y_distances.csv')\n",
    "\n",
    "# Preview the data\n",
    "gas_stations_df.head(), distances_df.head()"
   ]
  },
  {
   "cell_type": "markdown",
   "metadata": {},
   "source": [
    "### 3.1.2 Import Necessary Libraries\n",
    "\n",
    "This probabilistic technique is used for approximating the global optimum of a given function. It will find the shortest route across the gas stations, beginning from DISPERINDAG Surabaya."
   ]
  },
  {
   "cell_type": "code",
   "execution_count": null,
   "metadata": {},
   "outputs": [],
   "source": [
    "import numpy as np\n",
    "import random\n",
    "import math\n",
    "import matplotlib.pyplot as plt"
   ]
  },
  {
   "cell_type": "markdown",
   "metadata": {},
   "source": [
    "### 3.1.3 Execution\n",
    "\n",
    "This section defines the distances, starting point, base temperature, and cooling schedule."
   ]
  },
  {
   "cell_type": "code",
   "execution_count": null,
   "metadata": {},
   "outputs": [],
   "source": [
    "def simulated_annealing(distances, start_idx, temperature=1000, cooling_rate=0.003, min_temp=1):\n",
    "    num_nodes = len(distances)\n",
    "    \n",
    "    # Generate initial solution (random path)\n",
    "    current_solution = list(range(num_nodes))\n",
    "    random.shuffle(current_solution)\n",
    "    current_solution.insert(0, start_idx)  # Start at DISPERINDAG\n",
    "    \n",
    "    current_distance = calculate_total_distance(current_solution, distances)\n",
    "    best_solution = current_solution.copy()\n",
    "    best_distance = current_distance\n",
    "    \n",
    "    # Annealing process\n",
    "    while temperature > min_temp:\n",
    "        # Generate new solution by swapping two nodes\n",
    "        new_solution = current_solution.copy()\n",
    "        i, j = random.sample(range(1, num_nodes), 2)  # avoid swapping the start node\n",
    "        new_solution[i], new_solution[j] = new_solution[j], new_solution[i]\n",
    "        \n",
    "        new_distance = calculate_total_distance(new_solution, distances)\n",
    "        \n",
    "        # Decide whether to accept the new solution\n",
    "        if accept_solution(current_distance, new_distance, temperature):\n",
    "            current_solution = new_solution\n",
    "            current_distance = new_distance\n",
    "        \n",
    "        # Update the best solution if found a new best\n",
    "        if current_distance < best_distance:\n",
    "            best_solution = current_solution.copy()\n",
    "            best_distance = current_distance\n",
    "        \n",
    "        # Cool the system\n",
    "        temperature *= 1 - cooling_rate\n",
    "    \n",
    "    return best_solution, best_distance\n"
   ]
  },
  {
   "cell_type": "markdown",
   "metadata": {},
   "source": [
    "### 3.1.4 Travel Distance\n",
    "\n",
    "This section will calculate the total distance traveled according to the number and complexity of nodes."
   ]
  },
  {
   "cell_type": "code",
   "execution_count": null,
   "metadata": {},
   "outputs": [],
   "source": [
    "def calculate_total_distance(solution, distances):\n",
    "    total_distance = 0\n",
    "    for i in range(len(solution) - 1):\n",
    "        total_distance += distances.loc[solution[i], solution[i + 1]]\n",
    "    return total_distance"
   ]
  },
  {
   "cell_type": "markdown",
   "metadata": {},
   "source": [
    "### 3.1.5 Choose Best Route\n",
    "\n",
    "This section will pick the best / optimal solution according to the thermal expansion and cooling process in the region."
   ]
  },
  {
   "cell_type": "code",
   "execution_count": null,
   "metadata": {},
   "outputs": [],
   "source": [
    "def accept_solution(current_distance, new_distance, temperature):\n",
    "    if new_distance < current_distance:\n",
    "        return True\n",
    "    else:\n",
    "        # Accept the new solution with a certain probability\n",
    "        return random.random() < math.exp((current_distance - new_distance) / temperature)"
   ]
  },
  {
   "cell_type": "markdown",
   "metadata": {},
   "source": [
    "# 3.2 Lovebird Algorithm"
   ]
  },
  {
   "cell_type": "markdown",
   "metadata": {},
   "source": [
    "## 3.2.1 Define algorithm\n",
    "\n",
    "This section provides the necessary features for the algorithm through the number of nodes and agents iterating through them."
   ]
  },
  {
   "cell_type": "code",
   "execution_count": null,
   "metadata": {},
   "outputs": [],
   "source": [
    "def lovebird_algorithm(distances, start_idx, num_agents=10, max_iterations=100):\n",
    "    num_nodes = len(distances)\n",
    "    \n",
    "    # Initialize agents randomly\n",
    "    agents = [list(range(num_nodes)) for _ in range(num_agents)]\n",
    "    for agent in agents:\n",
    "        random.shuffle(agent)\n",
    "        agent.insert(0, start_idx)  # Start at DISPERINDAG\n",
    "\n",
    "    best_agent = None\n",
    "    best_distance = float('inf')\n",
    "\n",
    "    for iteration in range(max_iterations):\n",
    "        for agent in agents:\n",
    "            # Calculate the total distance for this agent's solution\n",
    "            current_distance = calculate_total_distance(agent, distances)\n",
    "            \n",
    "            # Update the best solution if this agent is better\n",
    "            if current_distance < best_distance:\n",
    "                best_distance = current_distance\n",
    "                best_agent = agent\n",
    "        \n",
    "            # Move agents toward the best solution\n",
    "            for i in range(1, num_nodes):\n",
    "                if random.random() < 0.1:\n",
    "                    agent[i] = best_agent[i]\n",
    "\n",
    "    return best_agent, best_distance\n"
   ]
  }
 ],
 "metadata": {
  "kernelspec": {
   "display_name": "Python 3",
   "language": "python",
   "name": "python3"
  },
  "language_info": {
   "codemirror_mode": {
    "name": "ipython",
    "version": 3
   },
   "file_extension": ".py",
   "mimetype": "text/x-python",
   "name": "python",
   "nbconvert_exporter": "python",
   "pygments_lexer": "ipython3",
   "version": "3.7.9"
  }
 },
 "nbformat": 4,
 "nbformat_minor": 2
}
