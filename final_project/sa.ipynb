{
 "cells": [
  {
   "cell_type": "markdown",
   "metadata": {},
   "source": [
    "# 3.1 Simulated Annealing"
   ]
  },
  {
   "cell_type": "markdown",
   "metadata": {},
   "source": [
    "## 3.1.1 Initialization"
   ]
  },
  {
   "cell_type": "code",
   "execution_count": null,
   "metadata": {
    "vscode": {
     "languageId": "plaintext"
    }
   },
   "outputs": [],
   "source": [
    "import pandas as pd\n",
    "\n",
    "# Load the gas station data\n",
    "gas_stations_file = 'gas_stations.csv'  # replace with the actual path to your CSV file\n",
    "distance_matrix_file = 'distance_matrix.csv'  # replace with the actual path to your CSV file\n",
    "\n",
    "gas_stations_df = pd.read_csv(gas_stations_file)\n",
    "distance_matrix_df = pd.read_csv(distance_matrix_file)\n",
    "\n",
    "# Display the first few rows to verify the data\n",
    "print(gas_stations_df.head())\n",
    "print(distance_matrix_df.head())"
   ]
  }
 ],
 "metadata": {
  "language_info": {
   "name": "python"
  }
 },
 "nbformat": 4,
 "nbformat_minor": 2
}
